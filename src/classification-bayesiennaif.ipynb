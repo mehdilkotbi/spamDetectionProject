{
 "cells": [
  {
   "cell_type": "code",
   "execution_count": 1,
   "metadata": {},
   "outputs": [],
   "source": [
    "##Packages that will be used\n",
    "library(e1071)\n",
    "library(caTools)"
   ]
  },
  {
   "cell_type": "code",
   "execution_count": 2,
   "metadata": {},
   "outputs": [
    {
     "name": "stdout",
     "output_type": "stream",
     "text": [
      "[1] 2588   58\n"
     ]
    },
    {
     "data": {
      "text/html": [
       "<table>\n",
       "<caption>A data.frame: 5 × 58</caption>\n",
       "<thead>\n",
       "\t<tr><th></th><th scope=col>word_freq_make</th><th scope=col>word_freq_address</th><th scope=col>word_freq_all</th><th scope=col>word_freq_3d</th><th scope=col>word_freq_our</th><th scope=col>word_freq_over</th><th scope=col>word_freq_remove</th><th scope=col>word_freq_internet</th><th scope=col>word_freq_order</th><th scope=col>word_freq_mail</th><th scope=col>⋯</th><th scope=col>char_freq_;</th><th scope=col>char_freq_(</th><th scope=col>char_freq_[</th><th scope=col>char_freq_!</th><th scope=col>char_freq_$</th><th scope=col>char_freq_</th><th scope=col>capital_run_length_average</th><th scope=col>capital_run_length_longest</th><th scope=col>capital_run_length_total</th><th scope=col>label</th></tr>\n",
       "\t<tr><th></th><th scope=col>&lt;dbl&gt;</th><th scope=col>&lt;dbl&gt;</th><th scope=col>&lt;dbl&gt;</th><th scope=col>&lt;dbl&gt;</th><th scope=col>&lt;dbl&gt;</th><th scope=col>&lt;dbl&gt;</th><th scope=col>&lt;dbl&gt;</th><th scope=col>&lt;dbl&gt;</th><th scope=col>&lt;dbl&gt;</th><th scope=col>&lt;dbl&gt;</th><th scope=col>⋯</th><th scope=col>&lt;dbl&gt;</th><th scope=col>&lt;dbl&gt;</th><th scope=col>&lt;dbl&gt;</th><th scope=col>&lt;dbl&gt;</th><th scope=col>&lt;dbl&gt;</th><th scope=col>&lt;dbl&gt;</th><th scope=col>&lt;dbl&gt;</th><th scope=col>&lt;int&gt;</th><th scope=col>&lt;int&gt;</th><th scope=col>&lt;int&gt;</th></tr>\n",
       "</thead>\n",
       "<tbody>\n",
       "\t<tr><th scope=row>455</th><td>0.0</td><td>0.0</td><td>0.89</td><td>0</td><td>1.79</td><td>0.44</td><td>0.00</td><td>0.00</td><td>0.00</td><td>0.00</td><td>⋯</td><td>0</td><td>0.073</td><td>0.000</td><td>0.000</td><td>0.00</td><td>0.000</td><td>2.250</td><td>12</td><td> 144</td><td>1</td></tr>\n",
       "\t<tr><th scope=row>2246</th><td>0.0</td><td>0.0</td><td>0.00</td><td>0</td><td>0.00</td><td>0.00</td><td>0.00</td><td>0.00</td><td>0.00</td><td>0.00</td><td>⋯</td><td>0</td><td>0.000</td><td>0.000</td><td>0.277</td><td>0.00</td><td>0.000</td><td>3.000</td><td>17</td><td>  51</td><td>0</td></tr>\n",
       "\t<tr><th scope=row>1935</th><td>0.0</td><td>0.0</td><td>0.00</td><td>0</td><td>0.00</td><td>0.00</td><td>0.00</td><td>0.00</td><td>0.00</td><td>0.00</td><td>⋯</td><td>0</td><td>0.377</td><td>0.000</td><td>0.125</td><td>0.00</td><td>0.000</td><td>2.925</td><td>27</td><td> 158</td><td>0</td></tr>\n",
       "\t<tr><th scope=row>1384</th><td>0.0</td><td>0.0</td><td>0.00</td><td>0</td><td>1.82</td><td>0.36</td><td>0.36</td><td>0.72</td><td>0.36</td><td>0.36</td><td>⋯</td><td>0</td><td>0.297</td><td>0.059</td><td>0.178</td><td>0.00</td><td>0.000</td><td>2.446</td><td>11</td><td> 115</td><td>1</td></tr>\n",
       "\t<tr><th scope=row>679</th><td>0.1</td><td>0.1</td><td>0.70</td><td>0</td><td>0.60</td><td>0.20</td><td>0.40</td><td>0.10</td><td>1.41</td><td>0.80</td><td>⋯</td><td>0</td><td>0.000</td><td>0.260</td><td>0.991</td><td>0.39</td><td>0.032</td><td>3.173</td><td>56</td><td>1044</td><td>1</td></tr>\n",
       "</tbody>\n",
       "</table>\n"
      ],
      "text/latex": [
       "A data.frame: 5 × 58\n",
       "\\begin{tabular}{r|lllllllllllllllllllll}\n",
       "  & word\\_freq\\_make & word\\_freq\\_address & word\\_freq\\_all & word\\_freq\\_3d & word\\_freq\\_our & word\\_freq\\_over & word\\_freq\\_remove & word\\_freq\\_internet & word\\_freq\\_order & word\\_freq\\_mail & ⋯ & char\\_freq\\_; & char\\_freq\\_( & char\\_freq\\_{[} & char\\_freq\\_! & char\\_freq\\_\\$ & char\\_freq\\_ & capital\\_run\\_length\\_average & capital\\_run\\_length\\_longest & capital\\_run\\_length\\_total & label\\\\\n",
       "  & <dbl> & <dbl> & <dbl> & <dbl> & <dbl> & <dbl> & <dbl> & <dbl> & <dbl> & <dbl> & ⋯ & <dbl> & <dbl> & <dbl> & <dbl> & <dbl> & <dbl> & <dbl> & <int> & <int> & <int>\\\\\n",
       "\\hline\n",
       "\t455 & 0.0 & 0.0 & 0.89 & 0 & 1.79 & 0.44 & 0.00 & 0.00 & 0.00 & 0.00 & ⋯ & 0 & 0.073 & 0.000 & 0.000 & 0.00 & 0.000 & 2.250 & 12 &  144 & 1\\\\\n",
       "\t2246 & 0.0 & 0.0 & 0.00 & 0 & 0.00 & 0.00 & 0.00 & 0.00 & 0.00 & 0.00 & ⋯ & 0 & 0.000 & 0.000 & 0.277 & 0.00 & 0.000 & 3.000 & 17 &   51 & 0\\\\\n",
       "\t1935 & 0.0 & 0.0 & 0.00 & 0 & 0.00 & 0.00 & 0.00 & 0.00 & 0.00 & 0.00 & ⋯ & 0 & 0.377 & 0.000 & 0.125 & 0.00 & 0.000 & 2.925 & 27 &  158 & 0\\\\\n",
       "\t1384 & 0.0 & 0.0 & 0.00 & 0 & 1.82 & 0.36 & 0.36 & 0.72 & 0.36 & 0.36 & ⋯ & 0 & 0.297 & 0.059 & 0.178 & 0.00 & 0.000 & 2.446 & 11 &  115 & 1\\\\\n",
       "\t679 & 0.1 & 0.1 & 0.70 & 0 & 0.60 & 0.20 & 0.40 & 0.10 & 1.41 & 0.80 & ⋯ & 0 & 0.000 & 0.260 & 0.991 & 0.39 & 0.032 & 3.173 & 56 & 1044 & 1\\\\\n",
       "\\end{tabular}\n"
      ],
      "text/markdown": [
       "\n",
       "A data.frame: 5 × 58\n",
       "\n",
       "| <!--/--> | word_freq_make &lt;dbl&gt; | word_freq_address &lt;dbl&gt; | word_freq_all &lt;dbl&gt; | word_freq_3d &lt;dbl&gt; | word_freq_our &lt;dbl&gt; | word_freq_over &lt;dbl&gt; | word_freq_remove &lt;dbl&gt; | word_freq_internet &lt;dbl&gt; | word_freq_order &lt;dbl&gt; | word_freq_mail &lt;dbl&gt; | ⋯ ⋯ | char_freq_; &lt;dbl&gt; | char_freq_( &lt;dbl&gt; | char_freq_[ &lt;dbl&gt; | char_freq_! &lt;dbl&gt; | char_freq_$ &lt;dbl&gt; | char_freq_ &lt;dbl&gt; | capital_run_length_average &lt;dbl&gt; | capital_run_length_longest &lt;int&gt; | capital_run_length_total &lt;int&gt; | label &lt;int&gt; |\n",
       "|---|---|---|---|---|---|---|---|---|---|---|---|---|---|---|---|---|---|---|---|---|---|\n",
       "| 455 | 0.0 | 0.0 | 0.89 | 0 | 1.79 | 0.44 | 0.00 | 0.00 | 0.00 | 0.00 | ⋯ | 0 | 0.073 | 0.000 | 0.000 | 0.00 | 0.000 | 2.250 | 12 |  144 | 1 |\n",
       "| 2246 | 0.0 | 0.0 | 0.00 | 0 | 0.00 | 0.00 | 0.00 | 0.00 | 0.00 | 0.00 | ⋯ | 0 | 0.000 | 0.000 | 0.277 | 0.00 | 0.000 | 3.000 | 17 |   51 | 0 |\n",
       "| 1935 | 0.0 | 0.0 | 0.00 | 0 | 0.00 | 0.00 | 0.00 | 0.00 | 0.00 | 0.00 | ⋯ | 0 | 0.377 | 0.000 | 0.125 | 0.00 | 0.000 | 2.925 | 27 |  158 | 0 |\n",
       "| 1384 | 0.0 | 0.0 | 0.00 | 0 | 1.82 | 0.36 | 0.36 | 0.72 | 0.36 | 0.36 | ⋯ | 0 | 0.297 | 0.059 | 0.178 | 0.00 | 0.000 | 2.446 | 11 |  115 | 1 |\n",
       "| 679 | 0.1 | 0.1 | 0.70 | 0 | 0.60 | 0.20 | 0.40 | 0.10 | 1.41 | 0.80 | ⋯ | 0 | 0.000 | 0.260 | 0.991 | 0.39 | 0.032 | 3.173 | 56 | 1044 | 1 |\n",
       "\n"
      ],
      "text/plain": [
       "     word_freq_make word_freq_address word_freq_all word_freq_3d word_freq_our\n",
       "455  0.0            0.0               0.89          0            1.79         \n",
       "2246 0.0            0.0               0.00          0            0.00         \n",
       "1935 0.0            0.0               0.00          0            0.00         \n",
       "1384 0.0            0.0               0.00          0            1.82         \n",
       "679  0.1            0.1               0.70          0            0.60         \n",
       "     word_freq_over word_freq_remove word_freq_internet word_freq_order\n",
       "455  0.44           0.00             0.00               0.00           \n",
       "2246 0.00           0.00             0.00               0.00           \n",
       "1935 0.00           0.00             0.00               0.00           \n",
       "1384 0.36           0.36             0.72               0.36           \n",
       "679  0.20           0.40             0.10               1.41           \n",
       "     word_freq_mail ⋯ char_freq_; char_freq_( char_freq_[ char_freq_!\n",
       "455  0.00           ⋯ 0           0.073       0.000       0.000      \n",
       "2246 0.00           ⋯ 0           0.000       0.000       0.277      \n",
       "1935 0.00           ⋯ 0           0.377       0.000       0.125      \n",
       "1384 0.36           ⋯ 0           0.297       0.059       0.178      \n",
       "679  0.80           ⋯ 0           0.000       0.260       0.991      \n",
       "     char_freq_$ char_freq_ capital_run_length_average\n",
       "455  0.00        0.000      2.250                     \n",
       "2246 0.00        0.000      3.000                     \n",
       "1935 0.00        0.000      2.925                     \n",
       "1384 0.00        0.000      2.446                     \n",
       "679  0.39        0.032      3.173                     \n",
       "     capital_run_length_longest capital_run_length_total label\n",
       "455  12                          144                     1    \n",
       "2246 17                           51                     0    \n",
       "1935 27                          158                     0    \n",
       "1384 11                          115                     1    \n",
       "679  56                         1044                     1    "
      ]
     },
     "metadata": {},
     "output_type": "display_data"
    }
   ],
   "source": [
    "# Reading training data\n",
    "data_train_name <- load(\"spam_data_train.rda\")\n",
    "data_train <- eval(as.symbol(data_train_name))\n",
    "print(dim(data_train))\n",
    "head(data_train, n=5)\n"
   ]
  },
  {
   "cell_type": "code",
   "execution_count": 3,
   "metadata": {},
   "outputs": [],
   "source": [
    "data_train$label <- as.factor(data_train$label)"
   ]
  },
  {
   "cell_type": "code",
   "execution_count": 4,
   "metadata": {},
   "outputs": [],
   "source": [
    "#splitting dataset into training and test set\n",
    "set.seed(101) \n",
    "sample = sample.split(data_train, SplitRatio = .8)\n",
    "data_train = subset(data_train, sample == TRUE)\n",
    "data_test  = subset(data_train, sample == FALSE)"
   ]
  },
  {
   "cell_type": "code",
   "execution_count": 5,
   "metadata": {},
   "outputs": [],
   "source": [
    "# Bayesien Naif\n",
    "naiv_bayes <- naiveBayes(label~., data = data_train)"
   ]
  },
  {
   "cell_type": "code",
   "execution_count": 6,
   "metadata": {},
   "outputs": [],
   "source": [
    "data_test_x <- data_test[,1:57]\n",
    "#Prediction on test dataset\n",
    "naiv_bayes_predict <- predict(naiv_bayes, newdata=data_test_x, type=\"class\")"
   ]
  },
  {
   "cell_type": "code",
   "execution_count": 7,
   "metadata": {},
   "outputs": [
    {
     "data": {
      "text/plain": [
       "                  \n",
       "naiv_bayes_predict   0   1\n",
       "                 0 150  10\n",
       "                 1 119 145"
      ]
     },
     "metadata": {},
     "output_type": "display_data"
    },
    {
     "name": "stdout",
     "output_type": "stream",
     "text": [
      "error rate using test data (Naive bayes) =  0.3042453"
     ]
    }
   ],
   "source": [
    "#comparaison between predicted and real values\n",
    "table(naiv_bayes_predict, data_test$label)\n",
    "# Computing error rate\n",
    "naiv_bayes_error_rate <- mean(naiv_bayes_predict != data_test$label)\n",
    "cat(\"error rate using test data (Naive bayes) = \", naiv_bayes_error_rate)"
   ]
  }
 ],
 "metadata": {
  "kernelspec": {
   "display_name": "R",
   "language": "R",
   "name": "ir"
  },
  "language_info": {
   "codemirror_mode": "r",
   "file_extension": ".r",
   "mimetype": "text/x-r-source",
   "name": "R",
   "pygments_lexer": "r",
   "version": "3.6.3"
  }
 },
 "nbformat": 4,
 "nbformat_minor": 4
}
